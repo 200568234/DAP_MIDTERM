{
 "cells": [
  {
   "cell_type": "markdown",
   "id": "fc6b4f8b",
   "metadata": {},
   "source": [
    "### DATA ANALYTICS PROGRAMMING Q23"
   ]
  },
  {
   "cell_type": "code",
   "execution_count": 9,
   "id": "f2a58bc3",
   "metadata": {},
   "outputs": [
    {
     "name": "stdout",
     "output_type": "stream",
     "text": [
      "tough(0, 0):\n",
      "\n",
      "\n",
      "tough(0, 1):\n",
      "*\n",
      "\n",
      "\n",
      "tough(0, 2):\n",
      "*\n",
      "**\n",
      "*\n",
      "\n",
      "\n",
      "tough(0, 4):\n",
      "*\n",
      "**\n",
      "*\n",
      "***\n",
      "*\n",
      "**\n",
      "*\n",
      "****\n",
      "*\n",
      "**\n",
      "*\n",
      "***\n",
      "*\n",
      "**\n",
      "*\n"
     ]
    }
   ],
   "source": [
    "def tough(indent, nofs):\n",
    "    if nofs == 0:\n",
    "        return\n",
    "    \n",
    "    tough(indent, nofs - 1)\n",
    "    print(' ' * indent + '*' * nofs)\n",
    "    tough(indent, nofs - 1)\n",
    "    \n",
    "    \n",
    "print(\"tough(0, 0):\")\n",
    "tough(0, 0)\n",
    "print(\"\\n\")\n",
    "\n",
    "print(\"tough(0, 1):\")\n",
    "tough(0, 1)\n",
    "print(\"\\n\")\n",
    "\n",
    "print(\"tough(0, 2):\")\n",
    "tough(0, 2)\n",
    "print(\"\\n\")\n",
    "\n",
    "print(\"tough(0, 4):\")\n",
    "tough(0, 4)\n"
   ]
  },
  {
   "cell_type": "code",
   "execution_count": null,
   "id": "ef3153dc",
   "metadata": {},
   "outputs": [],
   "source": []
  }
 ],
 "metadata": {
  "kernelspec": {
   "display_name": "Python 3 (ipykernel)",
   "language": "python",
   "name": "python3"
  },
  "language_info": {
   "codemirror_mode": {
    "name": "ipython",
    "version": 3
   },
   "file_extension": ".py",
   "mimetype": "text/x-python",
   "name": "python",
   "nbconvert_exporter": "python",
   "pygments_lexer": "ipython3",
   "version": "3.11.5"
  }
 },
 "nbformat": 4,
 "nbformat_minor": 5
}
