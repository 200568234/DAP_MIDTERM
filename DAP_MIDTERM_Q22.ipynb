{
 "cells": [
  {
   "cell_type": "markdown",
   "id": "d675839d",
   "metadata": {},
   "source": [
    "### DATA ANALYTICS PROGRAMMING Q22"
   ]
  },
  {
   "cell_type": "code",
   "execution_count": 9,
   "id": "09f03495",
   "metadata": {},
   "outputs": [
    {
     "name": "stdout",
     "output_type": "stream",
     "text": [
      "[(1, '2015-01-01', 10), (2, '2015-01-02', 25), (3, '2015-01-03', 20), (4, '2015-01-04', 30)]\n"
     ]
    }
   ],
   "source": [
    "import sqlite3\n",
    "\n",
    "conn = sqlite3.connect('midtermQ22.db')  \n",
    "\n",
    "cursor = conn.cursor()\n",
    "\n",
    "cursor.execute('''\n",
    "CREATE TABLE IF NOT EXISTS Weather (\n",
    "    id INTEGER PRIMARY KEY,\n",
    "    recordDate TEXT,\n",
    "    temperature INTEGER\n",
    ")\n",
    "''')\n",
    "\n",
    "cursor.execute('''\n",
    "INSERT INTO Weather (id, recordDate, temperature) \n",
    "VALUES (1, '2015-01-01', 10), \n",
    "       (2, '2015-01-02', 25), \n",
    "       (3, '2015-01-03', 20), \n",
    "       (4, '2015-01-04', 30)\n",
    "''')\n",
    "\n",
    "conn.commit()\n",
    "\n",
    "cursor.execute('SELECT * FROM Weather')\n",
    "rows = cursor.fetchall()\n",
    "print(rows)\n",
    "\n",
    "conn.close()\n"
   ]
  },
  {
   "cell_type": "code",
   "execution_count": 10,
   "id": "2290d64b",
   "metadata": {},
   "outputs": [
    {
     "name": "stdout",
     "output_type": "stream",
     "text": [
      "Dates with higher temperatures compared to the previous day: [(2,), (4,)]\n"
     ]
    }
   ],
   "source": [
    "import sqlite3\n",
    "import pandas as pd\n",
    "\n",
    "conn = sqlite3.connect('midtermQ22.db')\n",
    "\n",
    "cursor = conn.cursor()\n",
    "\n",
    "query = '''\n",
    "SELECT W1.id\n",
    "FROM Weather W1\n",
    "JOIN Weather W2\n",
    "ON W1.recordDate = DATE(W2.recordDate, '+1 day')\n",
    "WHERE W1.temperature > W2.temperature;\n",
    "'''\n",
    "\n",
    "cursor.execute(query)\n",
    "result = cursor.fetchall()\n",
    "\n",
    "print(\"Dates with higher temperatures compared to the previous day:\", result)\n",
    "\n",
    "conn.close()\n"
   ]
  },
  {
   "cell_type": "code",
   "execution_count": null,
   "id": "69736864",
   "metadata": {},
   "outputs": [],
   "source": []
  }
 ],
 "metadata": {
  "kernelspec": {
   "display_name": "Python 3 (ipykernel)",
   "language": "python",
   "name": "python3"
  },
  "language_info": {
   "codemirror_mode": {
    "name": "ipython",
    "version": 3
   },
   "file_extension": ".py",
   "mimetype": "text/x-python",
   "name": "python",
   "nbconvert_exporter": "python",
   "pygments_lexer": "ipython3",
   "version": "3.11.5"
  }
 },
 "nbformat": 4,
 "nbformat_minor": 5
}
